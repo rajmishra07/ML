{
  "nbformat": 4,
  "nbformat_minor": 0,
  "metadata": {
    "colab": {
      "provenance": [],
      "include_colab_link": true
    },
    "kernelspec": {
      "name": "python3",
      "display_name": "Python 3"
    },
    "language_info": {
      "name": "python"
    }
  },
  "cells": [
    {
      "cell_type": "markdown",
      "metadata": {
        "id": "view-in-github",
        "colab_type": "text"
      },
      "source": [
        "<a href=\"https://colab.research.google.com/github/rajmishra07/ML/blob/main/ANN.ipynb\" target=\"_parent\"><img src=\"https://colab.research.google.com/assets/colab-badge.svg\" alt=\"Open In Colab\"/></a>"
      ]
    },
    {
      "cell_type": "code",
      "execution_count": 2,
      "metadata": {
        "id": "QL9XVJMwoHRm"
      },
      "outputs": [],
      "source": [
        "from keras.datasets import mnist"
      ]
    },
    {
      "cell_type": "code",
      "source": [
        "from keras.datasets import mnist\n",
        "(train_images, train_labels), (test_images, test_labels) = mnist.load_data()\n"
      ],
      "metadata": {
        "id": "S-tVYhz9oJjn",
        "outputId": "49d13afb-46f9-4933-ef48-901fa539a945",
        "colab": {
          "base_uri": "https://localhost:8080/"
        }
      },
      "execution_count": 3,
      "outputs": [
        {
          "output_type": "stream",
          "name": "stdout",
          "text": [
            "Downloading data from https://storage.googleapis.com/tensorflow/tf-keras-datasets/mnist.npz\n",
            "11490434/11490434 [==============================] - 0s 0us/step\n"
          ]
        }
      ]
    },
    {
      "cell_type": "code",
      "source": [
        "train_images.shape\n",
        "len(train_labels)\n",
        "train_labels\n",
        "test_images.shape\n",
        "len(test_labels)\n",
        "test_labels\n"
      ],
      "metadata": {
        "id": "W5lXpBuzoTwx",
        "outputId": "30d50bcc-02a7-4037-a925-0f8bdab3451f",
        "colab": {
          "base_uri": "https://localhost:8080/"
        }
      },
      "execution_count": 4,
      "outputs": [
        {
          "output_type": "execute_result",
          "data": {
            "text/plain": [
              "array([7, 2, 1, ..., 4, 5, 6], dtype=uint8)"
            ]
          },
          "metadata": {},
          "execution_count": 4
        }
      ]
    },
    {
      "cell_type": "markdown",
      "source": [
        "The network architecture"
      ],
      "metadata": {
        "id": "lY9QnJc8oW98"
      }
    },
    {
      "cell_type": "code",
      "source": [
        "from keras import models\n",
        "from keras import layers\n",
        "network = models.Sequential()\n",
        "# Dense(32) is a fully-connected layer with 32 hidden units.\n",
        "# in the first layer, you must specify the expected input data shape :\n",
        "# here, 28 X 28=784 -dimensional vectors.\n",
        "network.add(layers.Dense(32, activation='sigmoid', input_shape=(28 * 28, )))\n",
        "network.add(layers.Dense(8, activation='sigmoid'))\n",
        "network.add(layers.Dense(10, activation='softmax'))\n",
        "network.summary()\n",
        "from google.colab import drive\n",
        "drive.mount('/content/drive')\n"
      ],
      "metadata": {
        "colab": {
          "base_uri": "https://localhost:8080/"
        },
        "id": "bDQ0ElvPoZH6",
        "outputId": "f8a74729-ecee-40ea-e5dd-4cb7dee4cc87"
      },
      "execution_count": 5,
      "outputs": [
        {
          "output_type": "stream",
          "name": "stdout",
          "text": [
            "Model: \"sequential\"\n",
            "_________________________________________________________________\n",
            " Layer (type)                Output Shape              Param #   \n",
            "=================================================================\n",
            " dense (Dense)               (None, 32)                25120     \n",
            "                                                                 \n",
            " dense_1 (Dense)             (None, 8)                 264       \n",
            "                                                                 \n",
            " dense_2 (Dense)             (None, 10)                90        \n",
            "                                                                 \n",
            "=================================================================\n",
            "Total params: 25474 (99.51 KB)\n",
            "Trainable params: 25474 (99.51 KB)\n",
            "Non-trainable params: 0 (0.00 Byte)\n",
            "_________________________________________________________________\n",
            "Mounted at /content/drive\n"
          ]
        }
      ]
    },
    {
      "cell_type": "markdown",
      "source": [
        "The compilation step"
      ],
      "metadata": {
        "id": "U7I7xhQjoeWH"
      }
    },
    {
      "cell_type": "code",
      "source": [
        "network.compile(optimizer='sgd',\n",
        "                loss='categorical_crossentropy',\n",
        "                metrics=['accuracy'])"
      ],
      "metadata": {
        "id": "_AkirVt0oe6B"
      },
      "execution_count": 6,
      "outputs": []
    },
    {
      "cell_type": "markdown",
      "source": [
        "Preparing the image data"
      ],
      "metadata": {
        "id": "Frz-vGxWogvz"
      }
    },
    {
      "cell_type": "code",
      "source": [
        "train_images = train_images.reshape((60000, 28 * 28))\n",
        "train_images = train_images.astype('float32') / 255.\n",
        "test_images = test_images.reshape((10000, 28 * 28))\n",
        "test_images = test_images.astype('float32') / 255."
      ],
      "metadata": {
        "id": "0LwIHz42oi7A"
      },
      "execution_count": 7,
      "outputs": []
    },
    {
      "cell_type": "markdown",
      "source": [
        "Preparing the labels"
      ],
      "metadata": {
        "id": "xa8dldHFonMc"
      }
    },
    {
      "cell_type": "code",
      "source": [
        "from keras.utils import to_categorical\n",
        "train_labels = to_categorical(train_labels)\n",
        "train_labels\n",
        "test_labels = to_categorical(test_labels)\n",
        "test_labels\n"
      ],
      "metadata": {
        "colab": {
          "base_uri": "https://localhost:8080/"
        },
        "id": "C7cSamqnoprH",
        "outputId": "7385bdf5-64a2-4e0b-f521-653ec1e2720a"
      },
      "execution_count": 8,
      "outputs": [
        {
          "output_type": "execute_result",
          "data": {
            "text/plain": [
              "array([[0., 0., 0., ..., 1., 0., 0.],\n",
              "       [0., 0., 1., ..., 0., 0., 0.],\n",
              "       [0., 1., 0., ..., 0., 0., 0.],\n",
              "       ...,\n",
              "       [0., 0., 0., ..., 0., 0., 0.],\n",
              "       [0., 0., 0., ..., 0., 0., 0.],\n",
              "       [0., 0., 0., ..., 0., 0., 0.]], dtype=float32)"
            ]
          },
          "metadata": {},
          "execution_count": 8
        }
      ]
    },
    {
      "cell_type": "markdown",
      "source": [
        "Training and Testing"
      ],
      "metadata": {
        "id": "MdyP_vQyossQ"
      }
    },
    {
      "cell_type": "code",
      "source": [
        "network.fit(train_images, train_labels, epochs=160, batch_size=512)"
      ],
      "metadata": {
        "colab": {
          "base_uri": "https://localhost:8080/"
        },
        "id": "xyUWJqXrouuJ",
        "outputId": "a177dffe-9f63-494c-9f3c-29f04c6a2741"
      },
      "execution_count": 9,
      "outputs": [
        {
          "output_type": "stream",
          "name": "stdout",
          "text": [
            "Epoch 1/160\n",
            "118/118 [==============================] - 3s 7ms/step - loss: 2.3385 - accuracy: 0.1001\n",
            "Epoch 2/160\n",
            "118/118 [==============================] - 1s 8ms/step - loss: 2.3072 - accuracy: 0.1410\n",
            "Epoch 3/160\n",
            "118/118 [==============================] - 1s 9ms/step - loss: 2.2907 - accuracy: 0.1638\n",
            "Epoch 4/160\n",
            "118/118 [==============================] - 1s 9ms/step - loss: 2.2798 - accuracy: 0.1763\n",
            "Epoch 5/160\n",
            "118/118 [==============================] - 1s 8ms/step - loss: 2.2713 - accuracy: 0.2611\n",
            "Epoch 6/160\n",
            "118/118 [==============================] - 1s 5ms/step - loss: 2.2637 - accuracy: 0.3439\n",
            "Epoch 7/160\n",
            "118/118 [==============================] - 1s 5ms/step - loss: 2.2562 - accuracy: 0.3298\n",
            "Epoch 8/160\n",
            "118/118 [==============================] - 1s 5ms/step - loss: 2.2486 - accuracy: 0.3259\n",
            "Epoch 9/160\n",
            "118/118 [==============================] - 1s 5ms/step - loss: 2.2407 - accuracy: 0.3380\n",
            "Epoch 10/160\n",
            "118/118 [==============================] - 1s 5ms/step - loss: 2.2323 - accuracy: 0.3461\n",
            "Epoch 11/160\n",
            "118/118 [==============================] - 1s 5ms/step - loss: 2.2233 - accuracy: 0.3620\n",
            "Epoch 12/160\n",
            "118/118 [==============================] - 1s 5ms/step - loss: 2.2137 - accuracy: 0.3705\n",
            "Epoch 13/160\n",
            "118/118 [==============================] - 1s 6ms/step - loss: 2.2034 - accuracy: 0.3879\n",
            "Epoch 14/160\n",
            "118/118 [==============================] - 1s 7ms/step - loss: 2.1924 - accuracy: 0.3948\n",
            "Epoch 15/160\n",
            "118/118 [==============================] - 1s 7ms/step - loss: 2.1805 - accuracy: 0.4037\n",
            "Epoch 16/160\n",
            "118/118 [==============================] - 1s 8ms/step - loss: 2.1679 - accuracy: 0.4189\n",
            "Epoch 17/160\n",
            "118/118 [==============================] - 1s 7ms/step - loss: 2.1543 - accuracy: 0.4270\n",
            "Epoch 18/160\n",
            "118/118 [==============================] - 1s 6ms/step - loss: 2.1399 - accuracy: 0.4321\n",
            "Epoch 19/160\n",
            "118/118 [==============================] - 1s 5ms/step - loss: 2.1246 - accuracy: 0.4343\n",
            "Epoch 20/160\n",
            "118/118 [==============================] - 1s 5ms/step - loss: 2.1084 - accuracy: 0.4394\n",
            "Epoch 21/160\n",
            "118/118 [==============================] - 1s 5ms/step - loss: 2.0913 - accuracy: 0.4423\n",
            "Epoch 22/160\n",
            "118/118 [==============================] - 1s 5ms/step - loss: 2.0734 - accuracy: 0.4460\n",
            "Epoch 23/160\n",
            "118/118 [==============================] - 1s 5ms/step - loss: 2.0548 - accuracy: 0.4463\n",
            "Epoch 24/160\n",
            "118/118 [==============================] - 1s 5ms/step - loss: 2.0354 - accuracy: 0.4495\n",
            "Epoch 25/160\n",
            "118/118 [==============================] - 1s 5ms/step - loss: 2.0156 - accuracy: 0.4533\n",
            "Epoch 26/160\n",
            "118/118 [==============================] - 1s 5ms/step - loss: 1.9952 - accuracy: 0.4537\n",
            "Epoch 27/160\n",
            "118/118 [==============================] - 1s 5ms/step - loss: 1.9745 - accuracy: 0.4563\n",
            "Epoch 28/160\n",
            "118/118 [==============================] - 1s 5ms/step - loss: 1.9535 - accuracy: 0.4594\n",
            "Epoch 29/160\n",
            "118/118 [==============================] - 1s 5ms/step - loss: 1.9324 - accuracy: 0.4629\n",
            "Epoch 30/160\n",
            "118/118 [==============================] - 1s 5ms/step - loss: 1.9113 - accuracy: 0.4637\n",
            "Epoch 31/160\n",
            "118/118 [==============================] - 1s 5ms/step - loss: 1.8903 - accuracy: 0.4678\n",
            "Epoch 32/160\n",
            "118/118 [==============================] - 1s 5ms/step - loss: 1.8695 - accuracy: 0.4709\n",
            "Epoch 33/160\n",
            "118/118 [==============================] - 1s 5ms/step - loss: 1.8490 - accuracy: 0.4742\n",
            "Epoch 34/160\n",
            "118/118 [==============================] - 1s 5ms/step - loss: 1.8287 - accuracy: 0.4758\n",
            "Epoch 35/160\n",
            "118/118 [==============================] - 1s 5ms/step - loss: 1.8089 - accuracy: 0.4802\n",
            "Epoch 36/160\n",
            "118/118 [==============================] - 1s 7ms/step - loss: 1.7896 - accuracy: 0.4853\n",
            "Epoch 37/160\n",
            "118/118 [==============================] - 1s 7ms/step - loss: 1.7707 - accuracy: 0.4884\n",
            "Epoch 38/160\n",
            "118/118 [==============================] - 1s 7ms/step - loss: 1.7523 - accuracy: 0.4934\n",
            "Epoch 39/160\n",
            "118/118 [==============================] - 1s 7ms/step - loss: 1.7345 - accuracy: 0.4976\n",
            "Epoch 40/160\n",
            "118/118 [==============================] - 1s 7ms/step - loss: 1.7171 - accuracy: 0.5031\n",
            "Epoch 41/160\n",
            "118/118 [==============================] - 1s 6ms/step - loss: 1.7002 - accuracy: 0.5074\n",
            "Epoch 42/160\n",
            "118/118 [==============================] - 1s 5ms/step - loss: 1.6839 - accuracy: 0.5113\n",
            "Epoch 43/160\n",
            "118/118 [==============================] - 1s 5ms/step - loss: 1.6679 - accuracy: 0.5165\n",
            "Epoch 44/160\n",
            "118/118 [==============================] - 1s 5ms/step - loss: 1.6525 - accuracy: 0.5214\n",
            "Epoch 45/160\n",
            "118/118 [==============================] - 1s 5ms/step - loss: 1.6374 - accuracy: 0.5266\n",
            "Epoch 46/160\n",
            "118/118 [==============================] - 1s 5ms/step - loss: 1.6228 - accuracy: 0.5314\n",
            "Epoch 47/160\n",
            "118/118 [==============================] - 1s 5ms/step - loss: 1.6085 - accuracy: 0.5372\n",
            "Epoch 48/160\n",
            "118/118 [==============================] - 1s 5ms/step - loss: 1.5945 - accuracy: 0.5416\n",
            "Epoch 49/160\n",
            "118/118 [==============================] - 1s 5ms/step - loss: 1.5809 - accuracy: 0.5457\n",
            "Epoch 50/160\n",
            "118/118 [==============================] - 1s 5ms/step - loss: 1.5675 - accuracy: 0.5511\n",
            "Epoch 51/160\n",
            "118/118 [==============================] - 1s 5ms/step - loss: 1.5544 - accuracy: 0.5559\n",
            "Epoch 52/160\n",
            "118/118 [==============================] - 1s 5ms/step - loss: 1.5415 - accuracy: 0.5609\n",
            "Epoch 53/160\n",
            "118/118 [==============================] - 1s 5ms/step - loss: 1.5288 - accuracy: 0.5663\n",
            "Epoch 54/160\n",
            "118/118 [==============================] - 1s 5ms/step - loss: 1.5163 - accuracy: 0.5724\n",
            "Epoch 55/160\n",
            "118/118 [==============================] - 1s 5ms/step - loss: 1.5039 - accuracy: 0.5763\n",
            "Epoch 56/160\n",
            "118/118 [==============================] - 1s 5ms/step - loss: 1.4917 - accuracy: 0.5805\n",
            "Epoch 57/160\n",
            "118/118 [==============================] - 1s 5ms/step - loss: 1.4796 - accuracy: 0.5854\n",
            "Epoch 58/160\n",
            "118/118 [==============================] - 1s 5ms/step - loss: 1.4675 - accuracy: 0.5907\n",
            "Epoch 59/160\n",
            "118/118 [==============================] - 1s 7ms/step - loss: 1.4556 - accuracy: 0.5960\n",
            "Epoch 60/160\n",
            "118/118 [==============================] - 1s 7ms/step - loss: 1.4437 - accuracy: 0.6015\n",
            "Epoch 61/160\n",
            "118/118 [==============================] - 1s 7ms/step - loss: 1.4318 - accuracy: 0.6077\n",
            "Epoch 62/160\n",
            "118/118 [==============================] - 1s 7ms/step - loss: 1.4200 - accuracy: 0.6135\n",
            "Epoch 63/160\n",
            "118/118 [==============================] - 1s 7ms/step - loss: 1.4081 - accuracy: 0.6191\n",
            "Epoch 64/160\n",
            "118/118 [==============================] - 1s 6ms/step - loss: 1.3963 - accuracy: 0.6238\n",
            "Epoch 65/160\n",
            "118/118 [==============================] - 1s 5ms/step - loss: 1.3845 - accuracy: 0.6292\n",
            "Epoch 66/160\n",
            "118/118 [==============================] - 1s 5ms/step - loss: 1.3726 - accuracy: 0.6358\n",
            "Epoch 67/160\n",
            "118/118 [==============================] - 1s 5ms/step - loss: 1.3607 - accuracy: 0.6422\n",
            "Epoch 68/160\n",
            "118/118 [==============================] - 1s 5ms/step - loss: 1.3487 - accuracy: 0.6488\n",
            "Epoch 69/160\n",
            "118/118 [==============================] - 1s 5ms/step - loss: 1.3368 - accuracy: 0.6548\n",
            "Epoch 70/160\n",
            "118/118 [==============================] - 1s 5ms/step - loss: 1.3247 - accuracy: 0.6606\n",
            "Epoch 71/160\n",
            "118/118 [==============================] - 1s 5ms/step - loss: 1.3127 - accuracy: 0.6668\n",
            "Epoch 72/160\n",
            "118/118 [==============================] - 1s 4ms/step - loss: 1.3005 - accuracy: 0.6730\n",
            "Epoch 73/160\n",
            "118/118 [==============================] - 1s 5ms/step - loss: 1.2884 - accuracy: 0.6789\n",
            "Epoch 74/160\n",
            "118/118 [==============================] - 1s 5ms/step - loss: 1.2761 - accuracy: 0.6844\n",
            "Epoch 75/160\n",
            "118/118 [==============================] - 1s 5ms/step - loss: 1.2639 - accuracy: 0.6913\n",
            "Epoch 76/160\n",
            "118/118 [==============================] - 1s 5ms/step - loss: 1.2516 - accuracy: 0.6978\n",
            "Epoch 77/160\n",
            "118/118 [==============================] - 1s 5ms/step - loss: 1.2392 - accuracy: 0.7037\n",
            "Epoch 78/160\n",
            "118/118 [==============================] - 1s 5ms/step - loss: 1.2268 - accuracy: 0.7096\n",
            "Epoch 79/160\n",
            "118/118 [==============================] - 1s 5ms/step - loss: 1.2144 - accuracy: 0.7154\n",
            "Epoch 80/160\n",
            "118/118 [==============================] - 1s 4ms/step - loss: 1.2020 - accuracy: 0.7225\n",
            "Epoch 81/160\n",
            "118/118 [==============================] - 1s 5ms/step - loss: 1.1896 - accuracy: 0.7281\n",
            "Epoch 82/160\n",
            "118/118 [==============================] - 1s 7ms/step - loss: 1.1772 - accuracy: 0.7330\n",
            "Epoch 83/160\n",
            "118/118 [==============================] - 1s 7ms/step - loss: 1.1648 - accuracy: 0.7381\n",
            "Epoch 84/160\n",
            "118/118 [==============================] - 1s 7ms/step - loss: 1.1524 - accuracy: 0.7432\n",
            "Epoch 85/160\n",
            "118/118 [==============================] - 1s 7ms/step - loss: 1.1401 - accuracy: 0.7470\n",
            "Epoch 86/160\n",
            "118/118 [==============================] - 1s 7ms/step - loss: 1.1278 - accuracy: 0.7506\n",
            "Epoch 87/160\n",
            "118/118 [==============================] - 1s 7ms/step - loss: 1.1156 - accuracy: 0.7544\n",
            "Epoch 88/160\n",
            "118/118 [==============================] - 1s 5ms/step - loss: 1.1035 - accuracy: 0.7586\n",
            "Epoch 89/160\n",
            "118/118 [==============================] - 1s 5ms/step - loss: 1.0914 - accuracy: 0.7616\n",
            "Epoch 90/160\n",
            "118/118 [==============================] - 1s 5ms/step - loss: 1.0795 - accuracy: 0.7652\n",
            "Epoch 91/160\n",
            "118/118 [==============================] - 1s 5ms/step - loss: 1.0677 - accuracy: 0.7686\n",
            "Epoch 92/160\n",
            "118/118 [==============================] - 1s 5ms/step - loss: 1.0560 - accuracy: 0.7715\n",
            "Epoch 93/160\n",
            "118/118 [==============================] - 1s 5ms/step - loss: 1.0444 - accuracy: 0.7743\n",
            "Epoch 94/160\n",
            "118/118 [==============================] - 1s 5ms/step - loss: 1.0330 - accuracy: 0.7771\n",
            "Epoch 95/160\n",
            "118/118 [==============================] - 1s 5ms/step - loss: 1.0217 - accuracy: 0.7797\n",
            "Epoch 96/160\n",
            "118/118 [==============================] - 1s 5ms/step - loss: 1.0106 - accuracy: 0.7823\n",
            "Epoch 97/160\n",
            "118/118 [==============================] - 1s 5ms/step - loss: 0.9997 - accuracy: 0.7849\n",
            "Epoch 98/160\n",
            "118/118 [==============================] - 1s 5ms/step - loss: 0.9889 - accuracy: 0.7873\n",
            "Epoch 99/160\n",
            "118/118 [==============================] - 1s 5ms/step - loss: 0.9783 - accuracy: 0.7897\n",
            "Epoch 100/160\n",
            "118/118 [==============================] - 1s 5ms/step - loss: 0.9679 - accuracy: 0.7922\n",
            "Epoch 101/160\n",
            "118/118 [==============================] - 1s 7ms/step - loss: 0.9576 - accuracy: 0.7944\n",
            "Epoch 102/160\n",
            "118/118 [==============================] - 1s 8ms/step - loss: 0.9476 - accuracy: 0.7965\n",
            "Epoch 103/160\n",
            "118/118 [==============================] - 1s 8ms/step - loss: 0.9377 - accuracy: 0.7990\n",
            "Epoch 104/160\n",
            "118/118 [==============================] - 1s 7ms/step - loss: 0.9280 - accuracy: 0.8006\n",
            "Epoch 105/160\n",
            "118/118 [==============================] - 1s 7ms/step - loss: 0.9185 - accuracy: 0.8025\n",
            "Epoch 106/160\n",
            "118/118 [==============================] - 1s 9ms/step - loss: 0.9091 - accuracy: 0.8045\n",
            "Epoch 107/160\n",
            "118/118 [==============================] - 1s 8ms/step - loss: 0.9000 - accuracy: 0.8066\n",
            "Epoch 108/160\n",
            "118/118 [==============================] - 1s 7ms/step - loss: 0.8910 - accuracy: 0.8085\n",
            "Epoch 109/160\n",
            "118/118 [==============================] - 1s 4ms/step - loss: 0.8822 - accuracy: 0.8101\n",
            "Epoch 110/160\n",
            "118/118 [==============================] - 1s 5ms/step - loss: 0.8736 - accuracy: 0.8123\n",
            "Epoch 111/160\n",
            "118/118 [==============================] - 1s 5ms/step - loss: 0.8651 - accuracy: 0.8141\n",
            "Epoch 112/160\n",
            "118/118 [==============================] - 1s 5ms/step - loss: 0.8569 - accuracy: 0.8156\n",
            "Epoch 113/160\n",
            "118/118 [==============================] - 1s 5ms/step - loss: 0.8487 - accuracy: 0.8175\n",
            "Epoch 114/160\n",
            "118/118 [==============================] - 1s 5ms/step - loss: 0.8407 - accuracy: 0.8189\n",
            "Epoch 115/160\n",
            "118/118 [==============================] - 1s 5ms/step - loss: 0.8329 - accuracy: 0.8207\n",
            "Epoch 116/160\n",
            "118/118 [==============================] - 1s 5ms/step - loss: 0.8253 - accuracy: 0.8225\n",
            "Epoch 117/160\n",
            "118/118 [==============================] - 1s 5ms/step - loss: 0.8178 - accuracy: 0.8242\n",
            "Epoch 118/160\n",
            "118/118 [==============================] - 1s 5ms/step - loss: 0.8104 - accuracy: 0.8258\n",
            "Epoch 119/160\n",
            "118/118 [==============================] - 1s 5ms/step - loss: 0.8031 - accuracy: 0.8274\n",
            "Epoch 120/160\n",
            "118/118 [==============================] - 1s 5ms/step - loss: 0.7960 - accuracy: 0.8292\n",
            "Epoch 121/160\n",
            "118/118 [==============================] - 1s 5ms/step - loss: 0.7891 - accuracy: 0.8307\n",
            "Epoch 122/160\n",
            "118/118 [==============================] - 1s 5ms/step - loss: 0.7822 - accuracy: 0.8319\n",
            "Epoch 123/160\n",
            "118/118 [==============================] - 1s 5ms/step - loss: 0.7755 - accuracy: 0.8333\n",
            "Epoch 124/160\n",
            "118/118 [==============================] - 1s 5ms/step - loss: 0.7689 - accuracy: 0.8348\n",
            "Epoch 125/160\n",
            "118/118 [==============================] - 1s 5ms/step - loss: 0.7624 - accuracy: 0.8363\n",
            "Epoch 126/160\n",
            "118/118 [==============================] - 1s 7ms/step - loss: 0.7560 - accuracy: 0.8375\n",
            "Epoch 127/160\n",
            "118/118 [==============================] - 1s 8ms/step - loss: 0.7498 - accuracy: 0.8388\n",
            "Epoch 128/160\n",
            "118/118 [==============================] - 1s 7ms/step - loss: 0.7436 - accuracy: 0.8402\n",
            "Epoch 129/160\n",
            "118/118 [==============================] - 1s 7ms/step - loss: 0.7375 - accuracy: 0.8415\n",
            "Epoch 130/160\n",
            "118/118 [==============================] - 1s 8ms/step - loss: 0.7316 - accuracy: 0.8427\n",
            "Epoch 131/160\n",
            "118/118 [==============================] - 1s 6ms/step - loss: 0.7257 - accuracy: 0.8433\n",
            "Epoch 132/160\n",
            "118/118 [==============================] - 1s 5ms/step - loss: 0.7200 - accuracy: 0.8446\n",
            "Epoch 133/160\n",
            "118/118 [==============================] - 1s 5ms/step - loss: 0.7143 - accuracy: 0.8457\n",
            "Epoch 134/160\n",
            "118/118 [==============================] - 1s 5ms/step - loss: 0.7087 - accuracy: 0.8466\n",
            "Epoch 135/160\n",
            "118/118 [==============================] - 1s 5ms/step - loss: 0.7032 - accuracy: 0.8478\n",
            "Epoch 136/160\n",
            "118/118 [==============================] - 1s 5ms/step - loss: 0.6978 - accuracy: 0.8489\n",
            "Epoch 137/160\n",
            "118/118 [==============================] - 1s 5ms/step - loss: 0.6924 - accuracy: 0.8497\n",
            "Epoch 138/160\n",
            "118/118 [==============================] - 1s 5ms/step - loss: 0.6872 - accuracy: 0.8505\n",
            "Epoch 139/160\n",
            "118/118 [==============================] - 1s 5ms/step - loss: 0.6820 - accuracy: 0.8515\n",
            "Epoch 140/160\n",
            "118/118 [==============================] - 1s 5ms/step - loss: 0.6769 - accuracy: 0.8524\n",
            "Epoch 141/160\n",
            "118/118 [==============================] - 1s 5ms/step - loss: 0.6719 - accuracy: 0.8535\n",
            "Epoch 142/160\n",
            "118/118 [==============================] - 1s 5ms/step - loss: 0.6669 - accuracy: 0.8544\n",
            "Epoch 143/160\n",
            "118/118 [==============================] - 1s 5ms/step - loss: 0.6621 - accuracy: 0.8551\n",
            "Epoch 144/160\n",
            "118/118 [==============================] - 1s 5ms/step - loss: 0.6573 - accuracy: 0.8556\n",
            "Epoch 145/160\n",
            "118/118 [==============================] - 1s 5ms/step - loss: 0.6525 - accuracy: 0.8563\n",
            "Epoch 146/160\n",
            "118/118 [==============================] - 1s 5ms/step - loss: 0.6479 - accuracy: 0.8572\n",
            "Epoch 147/160\n",
            "118/118 [==============================] - 1s 5ms/step - loss: 0.6433 - accuracy: 0.8581\n",
            "Epoch 148/160\n",
            "118/118 [==============================] - 1s 6ms/step - loss: 0.6388 - accuracy: 0.8589\n",
            "Epoch 149/160\n",
            "118/118 [==============================] - 1s 7ms/step - loss: 0.6343 - accuracy: 0.8600\n",
            "Epoch 150/160\n",
            "118/118 [==============================] - 1s 7ms/step - loss: 0.6299 - accuracy: 0.8606\n",
            "Epoch 151/160\n",
            "118/118 [==============================] - 1s 7ms/step - loss: 0.6256 - accuracy: 0.8614\n",
            "Epoch 152/160\n",
            "118/118 [==============================] - 1s 7ms/step - loss: 0.6213 - accuracy: 0.8620\n",
            "Epoch 153/160\n",
            "118/118 [==============================] - 1s 7ms/step - loss: 0.6171 - accuracy: 0.8630\n",
            "Epoch 154/160\n",
            "118/118 [==============================] - 1s 5ms/step - loss: 0.6130 - accuracy: 0.8637\n",
            "Epoch 155/160\n",
            "118/118 [==============================] - 1s 5ms/step - loss: 0.6089 - accuracy: 0.8643\n",
            "Epoch 156/160\n",
            "118/118 [==============================] - 1s 5ms/step - loss: 0.6049 - accuracy: 0.8650\n",
            "Epoch 157/160\n",
            "118/118 [==============================] - 1s 5ms/step - loss: 0.6010 - accuracy: 0.8654\n",
            "Epoch 158/160\n",
            "118/118 [==============================] - 1s 5ms/step - loss: 0.5971 - accuracy: 0.8664\n",
            "Epoch 159/160\n",
            "118/118 [==============================] - 1s 5ms/step - loss: 0.5933 - accuracy: 0.8670\n",
            "Epoch 160/160\n",
            "118/118 [==============================] - 1s 5ms/step - loss: 0.5895 - accuracy: 0.8674\n"
          ]
        },
        {
          "output_type": "execute_result",
          "data": {
            "text/plain": [
              "<keras.src.callbacks.History at 0x7d76bc27f280>"
            ]
          },
          "metadata": {},
          "execution_count": 9
        }
      ]
    },
    {
      "cell_type": "code",
      "source": [
        "test_loss, test_acc = network.evaluate(test_images, test_labels)\n",
        "print('Test Accuracy: {:.5f} '.format(test_acc))\n",
        "test_acc"
      ],
      "metadata": {
        "colab": {
          "base_uri": "https://localhost:8080/"
        },
        "id": "lxgwEbxmozey",
        "outputId": "8bc2f206-ebca-49f6-d1f4-66ad411dfa80"
      },
      "execution_count": 10,
      "outputs": [
        {
          "output_type": "stream",
          "name": "stdout",
          "text": [
            "313/313 [==============================] - 1s 2ms/step - loss: 0.5763 - accuracy: 0.8719\n",
            "Test Accuracy: 0.87190 \n"
          ]
        },
        {
          "output_type": "execute_result",
          "data": {
            "text/plain": [
              "0.8719000220298767"
            ]
          },
          "metadata": {},
          "execution_count": 10
        }
      ]
    },
    {
      "cell_type": "code",
      "source": [
        "from keras.utils import plot_model\n",
        "plot_model(network, to_file='model.png')\n",
        "import matplotlib.pyplot as plt\n",
        "history =network.fit(train_images, train_labels, validation_split=0.33,epochs=5, batch_size=512)\n",
        "history_dict = history.history\n",
        "print(history_dict.keys())\n",
        "plt.plot(history.history['accuracy'])\n",
        "plt.plot(history.history['val_accuracy'])\n",
        "plt.title('Model accuracy')\n",
        "plt.ylabel('Accuracy')\n",
        "plt.xlabel('Epoch')\n",
        "plt.legend(['Train', 'Test'], loc='upper left')\n",
        "plt.show()\n",
        "\n",
        "\n",
        "# Plot training & validation loss values\n",
        "plt.plot(history.history['loss'])\n",
        "plt.plot(history.history['val_loss'])\n",
        "plt.title('Model loss')\n",
        "plt.ylabel('Loss')\n",
        "plt.xlabel('Epoch')\n",
        "plt.legend(['Train', 'Test'], loc='upper left')\n",
        "plt.show()\n"
      ],
      "metadata": {
        "colab": {
          "base_uri": "https://localhost:8080/",
          "height": 1000
        },
        "id": "3vpftWmpo195",
        "outputId": "edc6072e-c2ff-4fdb-a1fc-05485eee102c"
      },
      "execution_count": 11,
      "outputs": [
        {
          "output_type": "stream",
          "name": "stdout",
          "text": [
            "Epoch 1/5\n",
            "79/79 [==============================] - 1s 10ms/step - loss: 0.5905 - accuracy: 0.8668 - val_loss: 0.5770 - val_accuracy: 0.8712\n",
            "Epoch 2/5\n",
            "79/79 [==============================] - 0s 6ms/step - loss: 0.5880 - accuracy: 0.8671 - val_loss: 0.5746 - val_accuracy: 0.8718\n",
            "Epoch 3/5\n",
            "79/79 [==============================] - 1s 7ms/step - loss: 0.5855 - accuracy: 0.8677 - val_loss: 0.5723 - val_accuracy: 0.8720\n",
            "Epoch 4/5\n",
            "79/79 [==============================] - 1s 11ms/step - loss: 0.5831 - accuracy: 0.8680 - val_loss: 0.5699 - val_accuracy: 0.8724\n",
            "Epoch 5/5\n",
            "79/79 [==============================] - 1s 12ms/step - loss: 0.5807 - accuracy: 0.8685 - val_loss: 0.5677 - val_accuracy: 0.8726\n",
            "dict_keys(['loss', 'accuracy', 'val_loss', 'val_accuracy'])\n"
          ]
        },
        {
          "output_type": "display_data",
          "data": {
            "text/plain": [
              "<Figure size 640x480 with 1 Axes>"
            ],
            "image/png": "[encoded data removed]"
          },
          "metadata": {}
        },
        {
          "output_type": "display_data",
          "data": {
            "text/plain": [
              "<Figure size 640x480 with 1 Axes>"
            ],
            "image/png": "[encoded data removed]"
          },
          "metadata": {}
        }
      ]
    }
  ]
}